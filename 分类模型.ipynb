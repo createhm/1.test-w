{
 "cells": [
  {
   "cell_type": "code",
   "execution_count": 13,
   "metadata": {},
   "outputs": [
    {
     "name": "stdout",
     "output_type": "stream",
     "text": [
      "sys.version_info(major=3, minor=7, micro=4, releaselevel='final', serial=0)\n",
      "matplotlib 3.1.1\n",
      "numpy 1.16.5\n",
      "pandas 0.25.1\n",
      "tensorflow 2.0.0\n",
      "tensorflow_core.keras 2.2.4-tf\n"
     ]
    }
   ],
   "source": [
    "import tensorflow as tf\n",
    "import numpy as np \n",
    "import matplotlib.pyplot as plt\n",
    "import matplotlib as mpl\n",
    "%matplotlib inline\n",
    "import pandas as pd\n",
    "import os\n",
    "import sys\n",
    "import time\n",
    "from tensorflow import keras\n",
    "print(sys.version_info)\n",
    "for module in mpl,np,pd,tf,keras:\n",
    "    print(module.__name__,module.__version__)"
   ]
  },
  {
   "cell_type": "code",
   "execution_count": 70,
   "metadata": {},
   "outputs": [
    {
     "data": {
      "text/plain": [
       "<matplotlib.collections.PathCollection at 0x269ff22bcc8>"
      ]
     },
     "execution_count": 70,
     "metadata": {},
     "output_type": "execute_result"
    },
    {
     "data": {
      "image/png": "[encoded data removed]",
      "text/plain": [
       "<Figure size 432x288 with 1 Axes>"
      ]
     },
     "metadata": {
      "needs_background": "light"
     },
     "output_type": "display_data"
    }
   ],
   "source": [
    "import random\n",
    "x=list(range(0,30))\n",
    "y=x+np.random.randn(30)*2\n",
    "plt.plot(x,y)\n",
    "class test:\n",
    "    x=[]\n",
    "    y=[]\n",
    "    for i in range(30):\n",
    "        x.append(i)\n",
    "        y.append(i+random.random()*10)\n",
    "plt.scatter(test.x,test.y,c=\"r\")"
   ]
  },
  {
   "cell_type": "code",
   "execution_count": 89,
   "metadata": {},
   "outputs": [
    {
     "data": {
      "text/plain": [
       "[<matplotlib.lines.Line2D at 0x26a0cb61c08>]"
      ]
     },
     "execution_count": 89,
     "metadata": {},
     "output_type": "execute_result"
    },
    {
     "data": {
      "image/png": "[encoded data removed]",
      "text/plain": [
       "<Figure size 432x288 with 1 Axes>"
      ]
     },
     "metadata": {
      "needs_background": "light"
     },
     "output_type": "display_data"
    }
   ],
   "source": [
    "plt.plot(test.y)"
   ]
  },
  {
   "cell_type": "code",
   "execution_count": 82,
   "metadata": {},
   "outputs": [
    {
     "name": "stdout",
     "output_type": "stream",
     "text": [
      "Model: \"sequential_26\"\n",
      "_________________________________________________________________\n",
      "Layer (type)                 Output Shape              Param #   \n",
      "=================================================================\n",
      "dense_32 (Dense)             (None, 1)                 2         \n",
      "=================================================================\n",
      "Total params: 2\n",
      "Trainable params: 2\n",
      "Non-trainable params: 0\n",
      "_________________________________________________________________\n",
      "Train on 30 samples\n",
      "Epoch 1/100\n",
      "30/30 [==============================] - 1s 40ms/sample - loss: 164.4712\n",
      "Epoch 2/100\n",
      "30/30 [==============================] - 0s 1ms/sample - loss: 164.0354\n",
      "Epoch 3/100\n",
      "30/30 [==============================] - 0s 1ms/sample - loss: 163.6002\n",
      "Epoch 4/100\n",
      "30/30 [==============================] - 0s 1ms/sample - loss: 163.1656\n",
      "Epoch 5/100\n",
      "30/30 [==============================] - 0s 1ms/sample - loss: 162.7317\n",
      "Epoch 6/100\n",
      "30/30 [==============================] - 0s 1ms/sample - loss: 162.2986\n",
      "Epoch 7/100\n",
      "30/30 [==============================] - 0s 1ms/sample - loss: 161.8660\n",
      "Epoch 8/100\n",
      "30/30 [==============================] - 0s 1ms/sample - loss: 161.4342\n",
      "Epoch 9/100\n",
      "30/30 [==============================] - 0s 1ms/sample - loss: 161.0031\n",
      "Epoch 10/100\n",
      "30/30 [==============================] - 0s 1ms/sample - loss: 160.5728\n",
      "Epoch 11/100\n",
      "30/30 [==============================] - 0s 1ms/sample - loss: 160.1431\n",
      "Epoch 12/100\n",
      "30/30 [==============================] - 0s 1ms/sample - loss: 159.7142\n",
      "Epoch 13/100\n",
      "30/30 [==============================] - 0s 1ms/sample - loss: 159.2860\n",
      "Epoch 14/100\n",
      "30/30 [==============================] - 0s 1ms/sample - loss: 158.8586\n",
      "Epoch 15/100\n",
      "30/30 [==============================] - 0s 1ms/sample - loss: 158.4320\n",
      "Epoch 16/100\n",
      "30/30 [==============================] - 0s 1ms/sample - loss: 158.0061\n",
      "Epoch 17/100\n",
      "30/30 [==============================] - 0s 1ms/sample - loss: 157.5811\n",
      "Epoch 18/100\n",
      "30/30 [==============================] - 0s 1ms/sample - loss: 157.1568\n",
      "Epoch 19/100\n",
      "30/30 [==============================] - 0s 1ms/sample - loss: 156.7333\n",
      "Epoch 20/100\n",
      "30/30 [==============================] - 0s 1ms/sample - loss: 156.3106\n",
      "Epoch 21/100\n",
      "30/30 [==============================] - 0s 1ms/sample - loss: 155.8887\n",
      "Epoch 22/100\n",
      "30/30 [==============================] - 0s 1ms/sample - loss: 155.4677\n",
      "Epoch 23/100\n",
      "30/30 [==============================] - 0s 997us/sample - loss: 155.0474\n",
      "Epoch 24/100\n",
      "30/30 [==============================] - 0s 1ms/sample - loss: 154.6280\n",
      "Epoch 25/100\n",
      "30/30 [==============================] - 0s 1ms/sample - loss: 154.2095\n",
      "Epoch 26/100\n",
      "30/30 [==============================] - 0s 1ms/sample - loss: 153.7918\n",
      "Epoch 27/100\n",
      "30/30 [==============================] - 0s 1ms/sample - loss: 153.3749\n",
      "Epoch 28/100\n",
      "30/30 [==============================] - 0s 1ms/sample - loss: 152.9588\n",
      "Epoch 29/100\n",
      "30/30 [==============================] - 0s 1ms/sample - loss: 152.5437\n",
      "Epoch 30/100\n",
      "30/30 [==============================] - 0s 1ms/sample - loss: 152.1294\n",
      "Epoch 31/100\n",
      "30/30 [==============================] - 0s 1ms/sample - loss: 151.7159\n",
      "Epoch 32/100\n",
      "30/30 [==============================] - 0s 1ms/sample - loss: 151.3033\n",
      "Epoch 33/100\n",
      "30/30 [==============================] - 0s 1ms/sample - loss: 150.8916\n",
      "Epoch 34/100\n",
      "30/30 [==============================] - 0s 1ms/sample - loss: 150.4807\n",
      "Epoch 35/100\n",
      "30/30 [==============================] - 0s 1ms/sample - loss: 150.0708\n",
      "Epoch 36/100\n",
      "30/30 [==============================] - 0s 1ms/sample - loss: 149.6617\n",
      "Epoch 37/100\n",
      "30/30 [==============================] - 0s 1ms/sample - loss: 149.2534\n",
      "Epoch 38/100\n",
      "30/30 [==============================] - 0s 1ms/sample - loss: 148.8461\n",
      "Epoch 39/100\n",
      "30/30 [==============================] - 0s 1ms/sample - loss: 148.4397\n",
      "Epoch 40/100\n",
      "30/30 [==============================] - 0s 1ms/sample - loss: 148.0341\n",
      "Epoch 41/100\n",
      "30/30 [==============================] - 0s 1ms/sample - loss: 147.6294\n",
      "Epoch 42/100\n",
      "30/30 [==============================] - 0s 1ms/sample - loss: 147.2256\n",
      "Epoch 43/100\n",
      "30/30 [==============================] - 0s 1ms/sample - loss: 146.8227\n",
      "Epoch 44/100\n",
      "30/30 [==============================] - 0s 1ms/sample - loss: 146.4206\n",
      "Epoch 45/100\n",
      "30/30 [==============================] - 0s 1ms/sample - loss: 146.0195\n",
      "Epoch 46/100\n",
      "30/30 [==============================] - 0s 1ms/sample - loss: 145.6192\n",
      "Epoch 47/100\n",
      "30/30 [==============================] - 0s 2ms/sample - loss: 145.2199\n",
      "Epoch 48/100\n",
      "30/30 [==============================] - 0s 1ms/sample - loss: 144.8214\n",
      "Epoch 49/100\n",
      "30/30 [==============================] - 0s 1ms/sample - loss: 144.4238\n",
      "Epoch 50/100\n",
      "30/30 [==============================] - 0s 1ms/sample - loss: 144.0271\n",
      "Epoch 51/100\n",
      "30/30 [==============================] - 0s 1ms/sample - loss: 143.6313\n",
      "Epoch 52/100\n",
      "30/30 [==============================] - 0s 2ms/sample - loss: 143.2364\n",
      "Epoch 53/100\n",
      "30/30 [==============================] - 0s 999us/sample - loss: 142.8424\n",
      "Epoch 54/100\n",
      "30/30 [==============================] - 0s 1ms/sample - loss: 142.4492\n",
      "Epoch 55/100\n",
      "30/30 [==============================] - 0s 1ms/sample - loss: 142.0570\n",
      "Epoch 56/100\n",
      "30/30 [==============================] - 0s 964us/sample - loss: 141.6657\n",
      "Epoch 57/100\n",
      "30/30 [==============================] - 0s 931us/sample - loss: 141.2752\n",
      "Epoch 58/100\n",
      "30/30 [==============================] - 0s 999us/sample - loss: 140.8857\n",
      "Epoch 59/100\n",
      "30/30 [==============================] - 0s 1ms/sample - loss: 140.4970\n",
      "Epoch 60/100\n",
      "30/30 [==============================] - 0s 997us/sample - loss: 140.1091\n",
      "Epoch 61/100\n",
      "30/30 [==============================] - 0s 963us/sample - loss: 139.7223\n",
      "Epoch 62/100\n",
      "30/30 [==============================] - 0s 964us/sample - loss: 139.3362\n",
      "Epoch 63/100\n",
      "30/30 [==============================] - 0s 971us/sample - loss: 138.9511\n",
      "Epoch 64/100\n",
      "30/30 [==============================] - 0s 960us/sample - loss: 138.5668\n",
      "Epoch 65/100\n",
      "30/30 [==============================] - 0s 966us/sample - loss: 138.1835\n",
      "Epoch 66/100\n",
      "30/30 [==============================] - 0s 997us/sample - loss: 137.8010\n",
      "Epoch 67/100\n",
      "30/30 [==============================] - 0s 1ms/sample - loss: 137.4194\n",
      "Epoch 68/100\n",
      "30/30 [==============================] - 0s 999us/sample - loss: 137.0387\n",
      "Epoch 69/100\n",
      "30/30 [==============================] - 0s 1ms/sample - loss: 136.6588\n",
      "Epoch 70/100\n",
      "30/30 [==============================] - 0s 1ms/sample - loss: 136.2799\n",
      "Epoch 71/100\n",
      "30/30 [==============================] - 0s 1ms/sample - loss: 135.9018\n",
      "Epoch 72/100\n",
      "30/30 [==============================] - 0s 1ms/sample - loss: 135.5246\n",
      "Epoch 73/100\n",
      "30/30 [==============================] - 0s 1ms/sample - loss: 135.1482\n",
      "Epoch 74/100\n",
      "30/30 [==============================] - 0s 1ms/sample - loss: 134.7727\n",
      "Epoch 75/100\n",
      "30/30 [==============================] - 0s 2ms/sample - loss: 134.3982\n",
      "Epoch 76/100\n",
      "30/30 [==============================] - 0s 1ms/sample - loss: 134.0244\n",
      "Epoch 77/100\n",
      "30/30 [==============================] - 0s 997us/sample - loss: 133.6516\n",
      "Epoch 78/100\n",
      "30/30 [==============================] - 0s 903us/sample - loss: 133.2796\n",
      "Epoch 79/100\n",
      "30/30 [==============================] - 0s 931us/sample - loss: 132.9085\n",
      "Epoch 80/100\n",
      "30/30 [==============================] - 0s 1ms/sample - loss: 132.5383\n",
      "Epoch 81/100\n",
      "30/30 [==============================] - 0s 898us/sample - loss: 132.1689\n",
      "Epoch 82/100\n",
      "30/30 [==============================] - 0s 1ms/sample - loss: 131.8004\n",
      "Epoch 83/100\n",
      "30/30 [==============================] - 0s 998us/sample - loss: 131.4328\n",
      "Epoch 84/100\n",
      "30/30 [==============================] - 0s 1ms/sample - loss: 131.0660\n",
      "Epoch 85/100\n",
      "30/30 [==============================] - 0s 1ms/sample - loss: 130.7001\n",
      "Epoch 86/100\n",
      "30/30 [==============================] - 0s 1ms/sample - loss: 130.3350\n",
      "Epoch 87/100\n",
      "30/30 [==============================] - 0s 1ms/sample - loss: 129.9708\n",
      "Epoch 88/100\n",
      "30/30 [==============================] - 0s 998us/sample - loss: 129.6075\n",
      "Epoch 89/100\n",
      "30/30 [==============================] - 0s 931us/sample - loss: 129.2450\n",
      "Epoch 90/100\n",
      "30/30 [==============================] - 0s 999us/sample - loss: 128.8834\n",
      "Epoch 91/100\n",
      "30/30 [==============================] - 0s 997us/sample - loss: 128.5226\n"
     ]
    },
    {
     "name": "stdout",
     "output_type": "stream",
     "text": [
      "Epoch 92/100\n",
      "30/30 [==============================] - 0s 972us/sample - loss: 128.1627\n",
      "Epoch 93/100\n",
      "30/30 [==============================] - 0s 1ms/sample - loss: 127.8036\n",
      "Epoch 94/100\n",
      "30/30 [==============================] - 0s 1ms/sample - loss: 127.4454\n",
      "Epoch 95/100\n",
      "30/30 [==============================] - 0s 965us/sample - loss: 127.0880\n",
      "Epoch 96/100\n",
      "30/30 [==============================] - 0s 997us/sample - loss: 126.7315\n",
      "Epoch 97/100\n",
      "30/30 [==============================] - 0s 999us/sample - loss: 126.3759\n",
      "Epoch 98/100\n",
      "30/30 [==============================] - 0s 1ms/sample - loss: 126.0210\n",
      "Epoch 99/100\n",
      "30/30 [==============================] - 0s 996us/sample - loss: 125.6671\n",
      "Epoch 100/100\n",
      "30/30 [==============================] - 0s 996us/sample - loss: 125.3140\n"
     ]
    }
   ],
   "source": [
    "model = tf.keras.models.Sequential()\n",
    "model.add( tf.keras.layers.Dense(1, input_shape=(1,)))\n",
    "model.summary()\n",
    "model.compile(optimizer='adam', loss='mse')\n",
    "history=model.fit(test.x,test.y,epochs=100)"
   ]
  },
  {
   "cell_type": "code",
   "execution_count": 81,
   "metadata": {},
   "outputs": [
    {
     "data": {
      "text/plain": [
       "array([[  0.09913673],\n",
       "       [ -0.61834264],\n",
       "       [ -1.335822  ],\n",
       "       [ -2.0533013 ],\n",
       "       [ -2.7707806 ],\n",
       "       [ -3.4882598 ],\n",
       "       [ -4.2057395 ],\n",
       "       [ -4.9232187 ],\n",
       "       [ -5.640698  ],\n",
       "       [ -6.358177  ],\n",
       "       [ -7.0756564 ],\n",
       "       [ -7.793136  ],\n",
       "       [ -8.510616  ],\n",
       "       [ -9.228095  ],\n",
       "       [ -9.945575  ],\n",
       "       [-10.6630535 ],\n",
       "       [-11.380533  ],\n",
       "       [-12.098013  ],\n",
       "       [-12.815492  ],\n",
       "       [-13.532971  ],\n",
       "       [-14.25045   ],\n",
       "       [-14.96793   ],\n",
       "       [-15.68541   ],\n",
       "       [-16.40289   ],\n",
       "       [-17.120369  ],\n",
       "       [-17.837847  ],\n",
       "       [-18.555326  ],\n",
       "       [-19.272806  ],\n",
       "       [-19.990286  ],\n",
       "       [-20.707766  ]], dtype=float32)"
      ]
     },
     "execution_count": 81,
     "metadata": {},
     "output_type": "execute_result"
    }
   ],
   "source": [
    "model.predict(x)"
   ]
  },
  {
   "cell_type": "code",
   "execution_count": null,
   "metadata": {},
   "outputs": [],
   "source": []
  },
  {
   "cell_type": "code",
   "execution_count": null,
   "metadata": {},
   "outputs": [],
   "source": []
  },
  {
   "cell_type": "code",
   "execution_count": 32,
   "metadata": {},
   "outputs": [
    {
     "name": "stdout",
     "output_type": "stream",
     "text": [
      "step: 50, loss: 0.078593, W: 0.274762, b: 0.634839\n",
      "step: 100, loss: 0.078403, W: 0.273399, b: 0.644500\n",
      "step: 150, loss: 0.078234, W: 0.272117, b: 0.653592\n",
      "step: 200, loss: 0.078085, W: 0.270910, b: 0.662148\n",
      "step: 250, loss: 0.077953, W: 0.269775, b: 0.670200\n",
      "step: 300, loss: 0.077835, W: 0.268706, b: 0.677777\n",
      "step: 350, loss: 0.077732, W: 0.267700, b: 0.684908\n",
      "step: 400, loss: 0.077640, W: 0.266753, b: 0.691619\n",
      "step: 450, loss: 0.077559, W: 0.265862, b: 0.697934\n",
      "step: 500, loss: 0.077487, W: 0.265024, b: 0.703878\n",
      "step: 550, loss: 0.077423, W: 0.264235, b: 0.709471\n",
      "step: 600, loss: 0.077366, W: 0.263493, b: 0.714734\n",
      "step: 650, loss: 0.077316, W: 0.262794, b: 0.719688\n",
      "step: 700, loss: 0.077272, W: 0.262137, b: 0.724349\n",
      "step: 750, loss: 0.077233, W: 0.261518, b: 0.728736\n",
      "step: 800, loss: 0.077198, W: 0.260936, b: 0.732864\n",
      "step: 850, loss: 0.077167, W: 0.260388, b: 0.736749\n",
      "step: 900, loss: 0.077140, W: 0.259872, b: 0.740405\n",
      "step: 950, loss: 0.077116, W: 0.259387, b: 0.743846\n",
      "step: 1000, loss: 0.077094, W: 0.258930, b: 0.747084\n"
     ]
    }
   ],
   "source": [
    "import tensorflow as tf\n",
    "import numpy as np\n",
    "\n",
    "# 一些参数\n",
    "learning_rate = 0.01  # 学习率\n",
    "training_steps = 1000  # 训练次数\n",
    "display_step = 50  # 训练50次输出一次\n",
    "\n",
    "# 训练数据\n",
    "X = np.array([3.3,4.4,5.5,6.71,6.93,4.168,9.779,6.182,7.59,2.167,\n",
    "              7.042,10.791,5.313,7.997,5.654,9.27,3.1])\n",
    "Y = np.array([1.7,2.76,2.09,3.19,1.694,1.573,3.366,2.596,2.53,1.221,\n",
    "              2.827,3.465,1.65,2.904,2.42,2.94,1.3])\n",
    "n_samples = X.shape[0]\n",
    "\n",
    "# 随机初始化权重和偏置\n",
    "W = tf.Variable(np.random.randn(), name=\"weight\")\n",
    "b = tf.Variable(np.random.randn(), name=\"bias\")\n",
    "\n",
    "# 线性回归函数\n",
    "def linear_regression(x):\n",
    "    return W*x + b\n",
    "\n",
    "# 损失函数\n",
    "def mean_square(y_pred, y_true):\n",
    "    return tf.reduce_sum(tf.pow(y_pred-y_true, 2)) / (2 * n_samples)\n",
    "\n",
    "# 优化器采用随机梯度下降(SGD)\n",
    "optimizer = tf.optimizers.SGD(learning_rate)\n",
    "\n",
    "# 计算梯度，更新参数\n",
    "def run_optimization():\n",
    "    # tf.GradientTape()梯度带，可以查看每一次epoch的参数值\n",
    "    with tf.GradientTape() as g:\n",
    "        pred = linear_regression(X)\n",
    "        loss = mean_square(pred, Y)\n",
    "    # 计算梯度\n",
    "    gradients = g.gradient(loss, [W, b])\n",
    "    # 更新W，b\n",
    "    optimizer.apply_gradients(zip(gradients, [W, b]))\n",
    "\n",
    "# 开始训练\n",
    "for step in range(1, training_steps+1):\n",
    "    run_optimization()\n",
    "    if step % display_step == 0:\n",
    "        pred = linear_regression(X)\n",
    "        loss = mean_square(pred, Y)\n",
    "        print(\"step: %i, loss: %f, W: %f, b: %f\" % (step, loss, W.numpy(), b.numpy()))"
   ]
  },
  {
   "cell_type": "code",
   "execution_count": 33,
   "metadata": {},
   "outputs": [
    {
     "data": {
      "image/png": "[encoded data removed]",
      "text/plain": [
       "<Figure size 432x288 with 1 Axes>"
      ]
     },
     "metadata": {
      "needs_background": "light"
     },
     "output_type": "display_data"
    }
   ],
   "source": [
    "import matplotlib.pyplot as plt\n",
    "\n",
    "plt.plot(X, Y, 'ro', label='Original data')\n",
    "plt.plot(X, np.array(W * X + b), label='Fitted line')\n",
    "plt.legend()\n",
    "plt.show()"
   ]
  },
  {
   "cell_type": "code",
   "execution_count": 5,
   "metadata": {
    "scrolled": false
   },
   "outputs": [
    {
     "name": "stdout",
     "output_type": "stream",
     "text": [
      "(5000, 28, 28) (5000,)\n",
      "(55000, 28, 28) (55000,)\n",
      "(10000, 28, 28) (10000,)\n"
     ]
    }
   ],
   "source": [
    "fashion_mnist= keras.datasets.fashion_mnist\n",
    "(x_train_all,y_train_all),(x_test,y_test)=fashion_mnist.load_data()\n",
    "x_valid,x_train=x_train_all[:5000],x_train_all[5000:]\n",
    "y_valid,y_train=y_train_all[:5000],y_train_all[5000:]\n",
    "print(x_valid.shape,y_valid.shape)\n",
    "print(x_train.shape,y_train.shape)\n",
    "print(x_test.shape,y_test.shape)"
   ]
  },
  {
   "cell_type": "code",
   "execution_count": 6,
   "metadata": {},
   "outputs": [
    {
     "data": {
      "image/png": "[encoded data removed]",
      "text/plain": [
       "<Figure size 432x288 with 1 Axes>"
      ]
     },
     "metadata": {
      "needs_background": "light"
     },
     "output_type": "display_data"
    }
   ],
   "source": [
    "def show_image(img_arr):\n",
    "    plt.imshow(img_arr,cmap=\"binary\")\n",
    "    plt.show()\n",
    "show_image(x_train[0])"
   ]
  },
  {
   "cell_type": "code",
   "execution_count": 7,
   "metadata": {},
   "outputs": [
    {
     "ename": "SyntaxError",
     "evalue": "invalid syntax (<ipython-input-7-19f8f0bfab96>, line 2)",
     "output_type": "error",
     "traceback": [
      "\u001b[1;36m  File \u001b[1;32m\"<ipython-input-7-19f8f0bfab96>\"\u001b[1;36m, line \u001b[1;32m2\u001b[0m\n\u001b[1;33m    assert len(x_data)=len(y_data)\u001b[0m\n\u001b[1;37m                      ^\u001b[0m\n\u001b[1;31mSyntaxError\u001b[0m\u001b[1;31m:\u001b[0m invalid syntax\n"
     ]
    }
   ],
   "source": [
    "def show_images(n_rows,n_cols,x_data,y_data,class_name):\n",
    "    assert len(x_data)=len(y_data)\n",
    "    assert n_rows*n_cols<len(x_data)\n",
    "    plt.figure(figsize==(n_cols*1.4,n_rows*1.6))\n",
    "    for row in range(n)"
   ]
  },
  {
   "cell_type": "code",
   "execution_count": null,
   "metadata": {},
   "outputs": [
    {
     "name": "stdout",
     "output_type": "stream",
     "text": [
      "start time Fri Mar 13 22:41:03 2020\n"
     ]
    }
   ],
   "source": [
    "#-*- coding: utf-8 -*- \n",
    "#author: orangleliu date: 2014-11-12 \n",
    "#python2.7.x ip_scaner.py \n",
    "  \n",
    "''''' \n",
    "不同平台，实现对所在内网端的ip扫描 \n",
    "  \n",
    "有时候需要知道所在局域网的有效ip，但是又不想找特定的工具来扫描。 \n",
    "使用方法 python ip_scaner.py 192.168.1.1 \n",
    "(会扫描192.168.1.1-255的ip) \n",
    "'''\n",
    "  \n",
    "import platform \n",
    "import sys \n",
    "import os \n",
    "import time \n",
    "import _thread\n",
    "  \n",
    "def get_os(): \n",
    "  ''''' \n",
    "  get os 类型 \n",
    "  '''\n",
    "  os = platform.system() \n",
    "  if os == \"Windows\": \n",
    "    return \"n\"\n",
    "  else: \n",
    "    return \"c\"\n",
    "    \n",
    "def ping_ip(ip_str): \n",
    "  cmd = [\"ping\", \"-{op}\".format(op=get_os()), \n",
    "      \"1\", ip_str] \n",
    "  output = os.popen(\" \".join(cmd)).readlines() \n",
    "    \n",
    "  flag = False\n",
    "  for line in list(output): \n",
    "    if not line: \n",
    "      continue\n",
    "    if str(line).upper().find(\"TTL\") >=0: \n",
    "      flag = True\n",
    "      break\n",
    "  if flag: \n",
    "    print(\"ip: %s is ok ***\"%ip_str)\n",
    "  \n",
    "def find_ip(ip_prefix): \n",
    "  ''''' \n",
    "  给出当前的127.0.0 ，然后扫描整个段所有地址 \n",
    "  '''\n",
    "  for i in range(1,256): \n",
    "    ip = '%s.%s'%(ip_prefix,i) \n",
    "    _thread.start_new_thread(ping_ip, (ip,)) \n",
    "    time.sleep(0.3) \n",
    "    \n",
    "if __name__ == \"__main__\": \n",
    "  print(\"start time %s\"%time.ctime())\n",
    "  commandargs = sys.argv[1:] \n",
    "  args = \"\".join(commandargs)   \n",
    "    \n",
    "  ip_prefix = '.'.join(args.split('.')[:-1]) \n",
    "  find_ip(ip_prefix) \n",
    "  print(\"end time %s\"%time.ctime())"
   ]
  },
  {
   "cell_type": "code",
   "execution_count": 1,
   "metadata": {},
   "outputs": [
    {
     "ename": "PortScannerError",
     "evalue": "'nmap program was not found in path. PATH is : D:\\\\learn\\\\java web\\\\Java\\\\jdk1.6.0_24\\\\bin;E:\\\\Andiord\\\\jdk-12.0.1\\\\bin;C:\\\\Windows\\\\system32;C:\\\\Windows;C:\\\\Windows\\\\System32\\\\Wbem;C:\\\\Windows\\\\System32\\\\WindowsPowerShell\\\\v1.0\\\\;C:\\\\Windows\\\\System32\\\\OpenSSH\\\\;C:\\\\Program Files (x86)\\\\NVIDIA Corporation\\\\PhysX\\\\Common;C:\\\\Program Files (x86)\\\\Git\\\\cmd;C:\\\\Program Files (x86)\\\\MySQL\\\\MySQL Fabric 1.5 & MySQL Utilities 1.5\\\\;C:\\\\Program Files (x86)\\\\MySQL\\\\MySQL Fabric 1.5 & MySQL Utilities 1.5\\\\Doctrine extensions for PHP\\\\;C:\\\\Program Files\\\\MySQL\\\\MySQL Server 5.7\\\\bin;E:\\\\biancheng\\\\Dev-cpp5.4.0及API帮助文档\\\\Dev-Cpp\\\\MinGW32\\\\bin;C:\\\\Program Files (x86)\\\\Google\\\\Chrome\\\\Application;D:\\\\learn\\\\aac + h264\\\\ffmpeg\\\\bin;D:\\\\programe;D:\\\\programe\\\\Library\\\\mingw-w64\\\\bin;D:\\\\programe\\\\Library\\\\usr\\\\bin;D:\\\\programe\\\\Library\\\\bin;D:\\\\programe\\\\Scripts;C:\\\\Users\\\\CREATE\\\\AppData\\\\Local\\\\Microsoft\\\\WindowsApps'",
     "output_type": "error",
     "traceback": [
      "\u001b[1;31m------------------------------------------------------------------------\u001b[0m",
      "\u001b[1;31mPortScannerError\u001b[0m                       Traceback (most recent call last)",
      "\u001b[1;32m<ipython-input-1-7ea65eb2444b>\u001b[0m in \u001b[0;36m<module>\u001b[1;34m\u001b[0m\n\u001b[0;32m     36\u001b[0m \u001b[1;33m\u001b[0m\u001b[0m\n\u001b[0;32m     37\u001b[0m \u001b[1;32mif\u001b[0m \u001b[0m__name__\u001b[0m \u001b[1;33m==\u001b[0m \u001b[1;34m'__main__'\u001b[0m\u001b[1;33m:\u001b[0m\u001b[1;33m\u001b[0m\u001b[1;33m\u001b[0m\u001b[0m\n\u001b[1;32m---> 38\u001b[1;33m     \u001b[0mget_all_survial_hosts\u001b[0m\u001b[1;33m(\u001b[0m\u001b[1;33m)\u001b[0m\u001b[1;33m\u001b[0m\u001b[1;33m\u001b[0m\u001b[0m\n\u001b[0m",
      "\u001b[1;32m<ipython-input-1-7ea65eb2444b>\u001b[0m in \u001b[0;36mget_all_survial_hosts\u001b[1;34m()\u001b[0m\n\u001b[0;32m     28\u001b[0m     \u001b[0mip_lists\u001b[0m \u001b[1;33m=\u001b[0m \u001b[0mget_ip_lists\u001b[0m\u001b[1;33m(\u001b[0m\u001b[0mgateway\u001b[0m\u001b[1;33m)\u001b[0m\u001b[1;33m\u001b[0m\u001b[1;33m\u001b[0m\u001b[0m\n\u001b[0;32m     29\u001b[0m     \u001b[1;32mfor\u001b[0m \u001b[0mip\u001b[0m \u001b[1;32min\u001b[0m \u001b[0mip_lists\u001b[0m\u001b[1;33m:\u001b[0m\u001b[1;33m\u001b[0m\u001b[1;33m\u001b[0m\u001b[0m\n\u001b[1;32m---> 30\u001b[1;33m         \u001b[0mscan_rst\u001b[0m \u001b[1;33m=\u001b[0m \u001b[0mscan_ip_survial\u001b[0m\u001b[1;33m(\u001b[0m\u001b[0mip\u001b[0m\u001b[1;33m)\u001b[0m\u001b[1;33m\u001b[0m\u001b[1;33m\u001b[0m\u001b[0m\n\u001b[0m\u001b[0;32m     31\u001b[0m         \u001b[1;32mif\u001b[0m \u001b[0mscan_rst\u001b[0m\u001b[1;33m:\u001b[0m\u001b[1;33m\u001b[0m\u001b[1;33m\u001b[0m\u001b[0m\n\u001b[0;32m     32\u001b[0m             \u001b[0msurvial_hosts\u001b[0m\u001b[1;33m.\u001b[0m\u001b[0mappend\u001b[0m\u001b[1;33m(\u001b[0m\u001b[0mscan_rst\u001b[0m\u001b[1;33m)\u001b[0m\u001b[1;33m\u001b[0m\u001b[1;33m\u001b[0m\u001b[0m\n",
      "\u001b[1;32m<ipython-input-1-7ea65eb2444b>\u001b[0m in \u001b[0;36mscan_ip_survial\u001b[1;34m(ip)\u001b[0m\n\u001b[0;32m     14\u001b[0m \u001b[1;33m\u001b[0m\u001b[0m\n\u001b[0;32m     15\u001b[0m \u001b[1;32mdef\u001b[0m \u001b[0mscan_ip_survial\u001b[0m\u001b[1;33m(\u001b[0m\u001b[0mip\u001b[0m\u001b[1;33m)\u001b[0m\u001b[1;33m:\u001b[0m\u001b[1;33m\u001b[0m\u001b[1;33m\u001b[0m\u001b[0m\n\u001b[1;32m---> 16\u001b[1;33m     \u001b[0mnmScan\u001b[0m \u001b[1;33m=\u001b[0m \u001b[0mnmap\u001b[0m\u001b[1;33m.\u001b[0m\u001b[0mPortScanner\u001b[0m\u001b[1;33m(\u001b[0m\u001b[1;33m)\u001b[0m\u001b[1;33m\u001b[0m\u001b[1;33m\u001b[0m\u001b[0m\n\u001b[0m\u001b[0;32m     17\u001b[0m     \u001b[0mnmScan\u001b[0m\u001b[1;33m.\u001b[0m\u001b[0mscan\u001b[0m\u001b[1;33m(\u001b[0m\u001b[0mhosts\u001b[0m\u001b[1;33m=\u001b[0m\u001b[0mip\u001b[0m\u001b[1;33m,\u001b[0m \u001b[0marguments\u001b[0m\u001b[1;33m=\u001b[0m\u001b[1;34m'-sP'\u001b[0m\u001b[1;33m)\u001b[0m\u001b[1;33m\u001b[0m\u001b[1;33m\u001b[0m\u001b[0m\n\u001b[0;32m     18\u001b[0m     \u001b[1;32mif\u001b[0m \u001b[0mnmScan\u001b[0m\u001b[1;33m[\u001b[0m\u001b[0mip\u001b[0m\u001b[1;33m]\u001b[0m\u001b[1;33m[\u001b[0m\u001b[1;34m'hostnames'\u001b[0m\u001b[1;33m]\u001b[0m\u001b[1;33m[\u001b[0m\u001b[1;36m0\u001b[0m\u001b[1;33m]\u001b[0m\u001b[1;33m[\u001b[0m\u001b[1;34m'name'\u001b[0m\u001b[1;33m]\u001b[0m\u001b[1;33m:\u001b[0m\u001b[1;33m\u001b[0m\u001b[1;33m\u001b[0m\u001b[0m\n",
      "\u001b[1;32mD:\\programe\\lib\\site-packages\\nmap\\nmap.py\u001b[0m in \u001b[0;36m__init__\u001b[1;34m(self, nmap_search_path)\u001b[0m\n\u001b[0;32m    129\u001b[0m             raise PortScannerError(\n\u001b[0;32m    130\u001b[0m                 'nmap program was not found in path. PATH is : {0}'.format(\n\u001b[1;32m--> 131\u001b[1;33m                     \u001b[0mos\u001b[0m\u001b[1;33m.\u001b[0m\u001b[0mgetenv\u001b[0m\u001b[1;33m(\u001b[0m\u001b[1;34m'PATH'\u001b[0m\u001b[1;33m)\u001b[0m\u001b[1;33m\u001b[0m\u001b[1;33m\u001b[0m\u001b[0m\n\u001b[0m\u001b[0;32m    132\u001b[0m                 )\n\u001b[0;32m    133\u001b[0m             )\n",
      "\u001b[1;31mPortScannerError\u001b[0m: 'nmap program was not found in path. PATH is : D:\\\\learn\\\\java web\\\\Java\\\\jdk1.6.0_24\\\\bin;E:\\\\Andiord\\\\jdk-12.0.1\\\\bin;C:\\\\Windows\\\\system32;C:\\\\Windows;C:\\\\Windows\\\\System32\\\\Wbem;C:\\\\Windows\\\\System32\\\\WindowsPowerShell\\\\v1.0\\\\;C:\\\\Windows\\\\System32\\\\OpenSSH\\\\;C:\\\\Program Files (x86)\\\\NVIDIA Corporation\\\\PhysX\\\\Common;C:\\\\Program Files (x86)\\\\Git\\\\cmd;C:\\\\Program Files (x86)\\\\MySQL\\\\MySQL Fabric 1.5 & MySQL Utilities 1.5\\\\;C:\\\\Program Files (x86)\\\\MySQL\\\\MySQL Fabric 1.5 & MySQL Utilities 1.5\\\\Doctrine extensions for PHP\\\\;C:\\\\Program Files\\\\MySQL\\\\MySQL Server 5.7\\\\bin;E:\\\\biancheng\\\\Dev-cpp5.4.0及API帮助文档\\\\Dev-Cpp\\\\MinGW32\\\\bin;C:\\\\Program Files (x86)\\\\Google\\\\Chrome\\\\Application;D:\\\\learn\\\\aac + h264\\\\ffmpeg\\\\bin;D:\\\\programe;D:\\\\programe\\\\Library\\\\mingw-w64\\\\bin;D:\\\\programe\\\\Library\\\\usr\\\\bin;D:\\\\programe\\\\Library\\\\bin;D:\\\\programe\\\\Scripts;C:\\\\Users\\\\CREATE\\\\AppData\\\\Local\\\\Microsoft\\\\WindowsApps'"
     ]
    }
   ],
   "source": [
    "# filename: lan_ip_scan.py\n",
    "import netifaces\n",
    "import nmap\n",
    "\n",
    "\n",
    "def get_gateways():\n",
    "    return netifaces.gateways()['default'][netifaces.AF_INET][0]\n",
    "\n",
    "def get_ip_lists(gateway):\n",
    "    ip_lists = []\n",
    "    for i in range(1, 256):\n",
    "        ip_lists.append('{}{}'.format(gateway[:-1], i))\n",
    "    return ip_lists\n",
    "\n",
    "def scan_ip_survial(ip):\n",
    "    nmScan = nmap.PortScanner()\n",
    "    nmScan.scan(hosts=ip, arguments='-sP')\n",
    "    if nmScan[ip]['hostnames'][0]['name']:\n",
    "        return {'IP Address:': ip,\n",
    "                'Hostname:': nmScan[ip]['hostnames'][0]['name']\n",
    "               }\n",
    "    else:\n",
    "        return None\n",
    "\n",
    "def get_all_survial_hosts():\n",
    "    survial_hosts = []\n",
    "    gateway = get_gateways()\n",
    "    ip_lists = get_ip_lists(gateway)\n",
    "    for ip in ip_lists:\n",
    "        scan_rst = scan_ip_survial(ip)\n",
    "        if scan_rst:\n",
    "            survial_hosts.append(scan_rst)\n",
    "            print(scan_rst)\n",
    "    return survial_hosts\n",
    "\n",
    "\n",
    "if __name__ == '__main__':\n",
    "    get_all_survial_hosts()"
   ]
  },
  {
   "cell_type": "code",
   "execution_count": 101,
   "metadata": {},
   "outputs": [
    {
     "name": "stdout",
     "output_type": "stream",
     "text": [
      "192.168.1.2\n",
      "Windows\n",
      "192.168.137.1\n"
     ]
    }
   ],
   "source": [
    "import socket\n",
    "import platform \n",
    "def getip():\n",
    "    try:\n",
    "        s = socket.socket(socket.AF_INET, socket.SOCK_DGRAM)\n",
    "        s.connect(('www.baidu.com', 0))\n",
    "        ip = s.getsockname()[0]\n",
    "    except:\n",
    "        ip=\"x.x.x.x\"\n",
    "    finally:\n",
    "        s.close\n",
    "    return ip\n",
    "print(getip())\n",
    "sysstr = platform.system()\n",
    "print(sysstr)\n",
    "ip_address = socket.gethostbyname(socket.gethostname())\n",
    "print(ip_address)"
   ]
  },
  {
   "cell_type": "code",
   "execution_count": 159,
   "metadata": {},
   "outputs": [
    {
     "data": {
      "text/plain": [
       "'CREATE'"
      ]
     },
     "execution_count": 159,
     "metadata": {},
     "output_type": "execute_result"
    }
   ],
   "source": [
    "socket.gethostbyname(socket.gethostname())\n",
    "platform.machine()\n",
    "platform.node()\n",
    "platform.platform()\n",
    "import sys\n",
    "sys.version_info\n",
    "platform.platform(aliased = 0,terse = 0)\n",
    "platform.processor()\n",
    "platform.uname()\n",
    "import getpass\n",
    "getpass.getuser()"
   ]
  },
  {
   "cell_type": "code",
   "execution_count": 187,
   "metadata": {},
   "outputs": [
    {
     "ename": "FileNotFoundError",
     "evalue": "[WinError 2] 系统找不到指定的文件。",
     "output_type": "error",
     "traceback": [
      "\u001b[1;31m------------------------------------------------------------------------\u001b[0m",
      "\u001b[1;31mFileNotFoundError\u001b[0m                      Traceback (most recent call last)",
      "\u001b[1;32m<ipython-input-187-f9c4695f4536>\u001b[0m in \u001b[0;36m<module>\u001b[1;34m\u001b[0m\n\u001b[0;32m     20\u001b[0m \u001b[1;33m\u001b[0m\u001b[0m\n\u001b[0;32m     21\u001b[0m \u001b[1;32mif\u001b[0m \u001b[0m__name__\u001b[0m \u001b[1;33m==\u001b[0m \u001b[1;34m\"__main__\"\u001b[0m\u001b[1;33m:\u001b[0m\u001b[1;33m\u001b[0m\u001b[1;33m\u001b[0m\u001b[0m\n\u001b[1;32m---> 22\u001b[1;33m     \u001b[0mdb\u001b[0m \u001b[1;33m=\u001b[0m \u001b[0mquery\u001b[0m\u001b[1;33m(\u001b[0m\u001b[1;33m)\u001b[0m\u001b[1;33m\u001b[0m\u001b[1;33m\u001b[0m\u001b[0m\n\u001b[0m\u001b[0;32m     23\u001b[0m     \u001b[0mprint\u001b[0m\u001b[1;33m(\u001b[0m\u001b[0mdb\u001b[0m\u001b[1;33m)\u001b[0m\u001b[1;33m\u001b[0m\u001b[1;33m\u001b[0m\u001b[0m\n",
      "\u001b[1;32m<ipython-input-187-f9c4695f4536>\u001b[0m in \u001b[0;36mquery\u001b[1;34m()\u001b[0m\n\u001b[0;32m      7\u001b[0m         \u001b[1;32mpass\u001b[0m\u001b[1;33m\u001b[0m\u001b[1;33m\u001b[0m\u001b[0m\n\u001b[0;32m      8\u001b[0m     \u001b[0mdb\u001b[0m \u001b[1;33m=\u001b[0m \u001b[1;33m{\u001b[0m\u001b[1;33m}\u001b[0m\u001b[1;33m\u001b[0m\u001b[1;33m\u001b[0m\u001b[0m\n\u001b[1;32m----> 9\u001b[1;33m     \u001b[1;32mwith\u001b[0m \u001b[0mwinreg\u001b[0m\u001b[1;33m.\u001b[0m\u001b[0mOpenKey\u001b[0m\u001b[1;33m(\u001b[0m\u001b[0mwinreg\u001b[0m\u001b[1;33m.\u001b[0m\u001b[0mHKEY_CURRENT_USER\u001b[0m\u001b[1;33m,\u001b[0m \u001b[1;34m\"Software\\\\FinalWire\\\\AIDA64\\\\SensorValues\"\u001b[0m\u001b[1;33m)\u001b[0m \u001b[1;32mas\u001b[0m \u001b[0mkey\u001b[0m\u001b[1;33m:\u001b[0m\u001b[1;33m\u001b[0m\u001b[1;33m\u001b[0m\u001b[0m\n\u001b[0m\u001b[0;32m     10\u001b[0m         \u001b[1;32mfor\u001b[0m \u001b[0mi\u001b[0m \u001b[1;32min\u001b[0m \u001b[0mrange\u001b[0m\u001b[1;33m(\u001b[0m\u001b[0mwinreg\u001b[0m\u001b[1;33m.\u001b[0m\u001b[0mQueryInfoKey\u001b[0m\u001b[1;33m(\u001b[0m\u001b[0mkey\u001b[0m\u001b[1;33m)\u001b[0m\u001b[1;33m[\u001b[0m\u001b[1;36m1\u001b[0m\u001b[1;33m]\u001b[0m\u001b[1;33m)\u001b[0m\u001b[1;33m:\u001b[0m\u001b[1;33m\u001b[0m\u001b[1;33m\u001b[0m\u001b[0m\n\u001b[0;32m     11\u001b[0m             \u001b[0mname\u001b[0m\u001b[1;33m,\u001b[0m \u001b[0mdata\u001b[0m\u001b[1;33m,\u001b[0m \u001b[0m_type\u001b[0m \u001b[1;33m=\u001b[0m \u001b[0mwinreg\u001b[0m\u001b[1;33m.\u001b[0m\u001b[0mEnumValue\u001b[0m\u001b[1;33m(\u001b[0m\u001b[0mkey\u001b[0m\u001b[1;33m,\u001b[0m \u001b[0mi\u001b[0m\u001b[1;33m)\u001b[0m\u001b[1;33m\u001b[0m\u001b[1;33m\u001b[0m\u001b[0m\n",
      "\u001b[1;31mFileNotFoundError\u001b[0m: [WinError 2] 系统找不到指定的文件。"
     ]
    }
   ],
   "source": [
    "#!/usr/bin/env python3\n",
    "\n",
    "import os, winreg\n",
    "\n",
    "def query():\n",
    "    if os.name != \"nt\":\n",
    "        pass\n",
    "    db = {}\n",
    "    with winreg.OpenKey(winreg.HKEY_CURRENT_USER, \"Software\\\\FinalWire\\\\AIDA64\\\\SensorValues\") as key:\n",
    "        for i in range(winreg.QueryInfoKey(key)[1]):\n",
    "            name, data, _type = winreg.EnumValue(key, i)\n",
    "            attr = name.split(\".\")\n",
    "            print(attr,winreg.EnumValue(key, i))\n",
    "            if (attr[0] == \"Label\"):\n",
    "                db[attr[1]] = {}\n",
    "                db[attr[1]][\"label\"] = data\n",
    "            else:\n",
    "                db[attr[1]][\"value\"] = data\n",
    "    return db\n",
    "\n",
    "if __name__ == \"__main__\":\n",
    "    db = query()\n",
    "    print(db)"
   ]
  },
  {
   "cell_type": "code",
   "execution_count": 195,
   "metadata": {
    "collapsed": true
   },
   "outputs": [
    {
     "name": "stdout",
     "output_type": "stream",
     "text": [
      "12\n",
      "6\n",
      "[13.2, 0.0, 1.6, 0.0, 0.0, 0.0, 1.6, 0.0, 9.4, 0.0, 3.1, 0.0]\n",
      "[32.3, 3.2, 18.8, 30.9, 21.9, 4.7, 12.7, 13.6, 59.1, 6.2, 24.2, 3.1]\n",
      "[0.0, 0.0, 3.1, 0.0, 0.0, 1.6, 1.6, 0.0, 9.4, 0.0, 3.1, 0.0]\n",
      "[4.7, 0.0, 0.0, 1.6, 0.0, 0.0, 3.1, 0.0, 7.9, 0.0, 3.1, 0.0]\n",
      "[4.6, 0.0, 0.0, 0.0, 0.0, 0.0, 0.0, 0.0, 7.7, 0.0, 3.1, 0.0]\n",
      "[4.6, 0.0, 1.6, 0.0, 0.0, 0.0, 0.0, 0.0, 6.2, 0.0, 6.2, 0.0]\n",
      "[10.9, 0.0, 6.2, 3.1, 10.9, 7.8, 10.9, 3.1, 33.8, 1.6, 12.5, 1.5]\n",
      "[9.2, 1.6, 12.3, 4.7, 7.8, 1.6, 6.2, 6.2, 21.5, 7.8, 10.9, 0.0]\n",
      "[16.2, 1.5, 3.1, 1.6, 1.6, 1.6, 3.1, 1.6, 14.1, 0.0, 3.1, 0.0]\n",
      "[9.1, 0.0, 4.7, 1.6, 0.0, 1.6, 1.6, 0.0, 7.8, 0.0, 3.1, 0.0]\n"
     ]
    }
   ],
   "source": [
    "import psutil\n",
    "print(psutil.cpu_count()) # CPU逻辑数量\n",
    "print(psutil.cpu_count(logical=False)) # CPU物理核心\n",
    "psutil.cpu_times()\n",
    "for x in range(10):\n",
    "     print(psutil.cpu_percent(interval=1, percpu=True))\n"
   ]
  },
  {
   "cell_type": "code",
   "execution_count": 618,
   "metadata": {
    "collapsed": true
   },
   "outputs": [
    {
     "name": "stdout",
     "output_type": "stream",
     "text": [
      "USER         PID  %MEM     VSZ     RSS  NICE STATUS  START   TIME  CMDLINE\n",
      "SYSTEM         0   0.0   56.0K    8.0K        runni  Mar13  11:50  Syste\n",
      "SYSTEM         4   0.0  192.0K  132.0K        runni  Mar13  05:43  Syste\n",
      "             112   0.1    6.7M   16.8M        runni  Mar13  00:05  lsass\n",
      "             120   0.1    6.4M   10.5M        runni  Mar13  00:00  conho\n",
      "             144   0.5  796.0K   83.2M        runni  Mar13  00:00  Regis\n",
      "CREATE       352   0.0    1.7M    7.8M    32  runni  Mar13  00:00  C:\\Wi\n",
      "             500   0.0  476.0K    1.1M        runni  Mar13  00:00  smss.\n",
      "             772   0.1    2.9M   11.5M        runni  Mar13  00:00  winlo\n",
      "             836   0.0    1.9M    5.4M        runni  Mar13  00:01  csrss\n",
      "             936   0.0    1.4M    6.8M        runni  Mar13  00:00  winin\n",
      "             944   0.0    2.7M    6.7M        runni  Mar13  00:12  csrss\n",
      "            1008   0.1    5.6M   10.5M        runni  Mar13  35:05  servi\n",
      "            1036   0.0 1004.0K    3.9M        runni  Mar13  00:00  svcho\n",
      "            1068   0.2   11.7M   29.4M        runni  Mar13  00:25  svcho\n",
      "            1076   0.1   11.0M   13.2M        runni  Mar13  00:00  fontd\n",
      "            1084   0.2   16.5M   26.4M        runni  Mar13  00:01  fontd\n",
      "CREATE      1144   0.0    2.3M    3.8M    32  runni  Mar13  00:00  C:\\Wi\n",
      "            1164   0.0    1.8M    7.0M        runni  Mar13  00:00  WUDFH\n",
      "            1220   0.0    1.2M    5.4M        runni  Mar13  00:00  svcho\n",
      "            1292   0.1    7.4M   19.9M        runni  Mar13  00:01  WUDFH\n",
      "            1356   0.1    8.6M   16.2M        runni  Mar13  00:25  svcho\n",
      "            1400   0.1    2.9M   10.4M        runni  Mar13  00:01  svcho\n",
      "            1520   0.7   85.0M  113.3M        runni  Mar13  03:50  dwm.e\n",
      "            1636   0.0    1.5M    6.4M        runni  Mar13  00:00  svcho\n",
      "            1692   0.0    1.7M    6.1M        runni  Mar13  00:00  svcho\n",
      "            1708   0.1    3.2M    9.7M        runni  Mar13  00:00  DAX3A\n",
      "            1732   0.1    5.2M   13.0M        runni  Mar13  00:01  svcho\n",
      "            1748   0.1    2.9M   11.4M        runni  Mar13  00:00  svcho\n",
      "            1780   0.1    2.1M   12.6M        runni  Mar13  00:00  svcho\n",
      "            1892   0.0    2.1M    7.8M        runni  Mar13  00:00  svcho\n",
      "            1900   0.1    2.7M   10.7M        runni  Mar13  00:01  svcho\n",
      "            1908   0.1    1.9M   11.8M        runni  Mar13  00:00  svcho\n",
      "CREATE      1928   0.0   18.7M  484.0K    32  stopp  Mar13  00:00  C:\\Wi\n",
      "CREATE      1984   0.0  504.0K    2.2M    32  runni  Mar13  00:00  jupyt\n",
      "            2028   0.1    5.8M   15.1M        runni  Mar13  00:02  svcho\n",
      "            2036   0.1    2.8M   11.5M        runni  Mar13  00:00  svcho\n",
      "CREATE      2056   0.0   15.1M  936.0K    32  stopp  Mar13  00:00  C:\\Pr\n",
      "CREATE      2108   0.1    2.2M    8.5M    32  runni  Mar13  00:00  C:\\Wi\n",
      "            2132   0.0    1.5M    5.9M        runni  Mar13  00:00  svcho\n",
      "            2156   0.1    2.8M   10.1M        runni  Mar13  00:01  svcho\n",
      "            2200   0.1   15.3M   18.6M        runni  Mar13  00:03  svcho\n",
      "            2268   0.1    2.1M    9.1M        runni  Mar13  00:01  svcho\n",
      "            2404   0.1    2.6M    9.9M        runni  Mar13  00:03  svcho\n",
      "            2412   0.1    2.4M   11.6M        runni  Mar13  00:03  svcho\n",
      "            2428   0.1    2.4M    9.7M        runni  Mar13  00:00  svcho\n",
      "            2432   0.1    6.7M   10.4M        runni  Mar13  00:04  svcho\n",
      "CREATE      2480   0.1    7.2M   13.2M    32  runni  Mar13  00:00  D:\\pr\n",
      "            2528   0.1    5.1M   15.2M        runni  Mar13  00:12  svcho\n",
      "            2592   0.0    2.6M    8.0M        runni  Mar13  00:03  svcho\n",
      "CREATE      2600   0.0   26.8M    5.0M 16384  runni  Mar13  00:04  C:\\Wi\n",
      "            2616   0.1    5.4M   15.6M        runni  Mar13  00:08  NVDis\n",
      "            2748   0.0    1.9M    7.9M        runni  Mar13  00:00  svcho\n",
      "            2756   0.1    2.5M   12.9M        runni  Mar13  00:04  svcho\n",
      "            2764   0.0    1.4M    5.8M        runni  Mar13  00:00  svcho\n",
      "            2772   0.0    2.0M    7.9M        runni  Mar13  00:00  svcho\n",
      "CREATE      2800   0.0    1.7M    7.7M    32  runni  Mar13  00:00  C:\\Wi\n",
      "            2816   0.1    5.1M   12.5M        runni  Mar13  00:05  svcho\n",
      "            2860   0.1    3.3M    9.5M        runni  Mar13  00:05  svcho\n",
      "            2936   0.0   92.0K    1.6M        runni  Mar13  00:00  Memor\n",
      "            3084   0.0    1.6M    6.6M        runni  Mar13  00:00  svcho\n",
      "            3132   0.1    2.0M    9.0M        runni  Mar13  00:00  igfxC\n",
      "            3212   0.1    2.1M    8.2M        runni  Mar13  00:00  svcho\n",
      "            3220   0.1    2.3M    8.3M        runni  Mar13  00:08  svcho\n",
      "            3228   0.1    2.0M    9.2M        runni  Mar13  00:02  svcho\n",
      "CREATE      3252   0.2   11.1M   28.3M    32  runni  Mar13  00:13  C:\\Us\n",
      "            3280   0.1    6.5M   19.6M        runni  Mar13  00:04  svcho\n",
      "            3320   0.0    1.4M    5.4M        runni  Mar13  00:00  svcho\n",
      "            3360   0.1    2.6M    9.7M        runni  Mar13  00:00  svcho\n",
      "            3384   0.1    4.0M    9.1M        runni  Mar13  01:52  svcho\n",
      "CREATE      3408   2.9  574.4M  471.2M 32768  runni  Mar13  05:20  C:\\Pr\n",
      "CREATE      3436   0.2   91.3M   31.4M    32  runni  Mar13  02:41  C:\\Us\n",
      "            3560   0.2   24.8M   28.4M        runni  Mar13  00:06  NVDis\n",
      "            3596   0.0    2.1M    7.4M        runni  Mar13  00:03  svcho\n",
      "            3784   0.1    4.6M   14.6M        runni  Mar13  00:44  svcho\n",
      "            3920   0.1    3.2M    9.1M        runni  Mar13  00:00  2345S\n",
      "            3936   0.1    7.6M   18.6M        runni  Mar13  00:03  Haozi\n",
      "            3944   0.1    3.7M   13.3M        runni  Mar13  00:01  svcho\n",
      "            3952   0.0    1.8M    6.8M        runni  Mar13  00:00  svcho\n",
      "            4140   0.1    4.8M   20.7M        runni  Mar13  00:00  svcho\n",
      "            4236   0.1    2.5M   12.5M        runni  Mar13  00:00  svcho\n",
      "            4348   0.1    5.5M   15.1M        runni  Mar13  00:01  spool\n",
      "            4488   0.1   12.7M   21.7M        runni  Mar13  00:11  svcho\n",
      "CREATE      4496   0.1   65.0M   16.6M    32  runni  Mar13  00:12  C:\\Us\n",
      "            4540   0.1    2.2M   11.8M        runni  Mar13  00:02  svcho\n",
      "            4764   0.2   27.1M   34.1M        runni  Mar13  00:08  DAX3A\n",
      "            4772   0.0    1.7M    7.8M        runni  Mar13  00:00  Intel\n",
      "            4792   0.1    2.4M   10.1M        runni  Mar13  00:02  RtkAu\n",
      "CREATE      4800   0.5   51.2M   74.0M    32  runni  Mar13  00:02  C:\\Pr\n",
      "            4812   0.0    1.7M    6.0M        runni  Mar13  00:00  esif_\n",
      "            4820   0.1    4.3M   12.6M        runni  Mar13  00:01  NvTel\n",
      "            4832   0.2   15.0M   24.5M        runni  Mar13  00:54  svcho\n",
      "CREATE      4840   0.3   33.4M   50.3M    32  runni  Mar13  00:23  C:\\Pr\n",
      "            4852   0.3   51.5M   56.5M        runni  Mar13  00:06  svcho\n",
      "            4860   0.1    2.8M    9.3M        runni  Mar13  00:02  FMSer\n",
      "            4872   0.1   18.0M   20.2M        runni  Mar13  00:01  QQPro\n",
      "            4880   0.1    3.8M   13.1M        runni  Mar13  00:01  svcho\n",
      "            4888   0.1    5.2M   12.2M        runni  Mar13  00:00  svcho\n",
      "            4896   0.4  281.2M   65.4M        runni  Mar13  00:00  mysql\n",
      "            4904   0.0    1.7M    6.6M        runni  Mar13  00:00  svcho\n",
      "            4912   0.0    1.9M    7.3M        runni  Mar13  00:00  RstMw\n",
      "            4920   0.0    2.2M    7.3M        runni  Mar13  00:01  RtkBt\n",
      "            4940   0.2   16.1M   30.8M        runni  Mar13  00:04  svcho\n",
      "            5000   0.1    3.4M   11.1M        runni  Mar13  00:14  Huawe\n",
      "            5032   0.0    1.4M    5.5M        runni  Mar13  00:00  svcho\n",
      "            5052   0.0    2.2M    8.1M        runni  Mar13  00:00  space\n",
      "            5064   0.1    2.4M    8.9M        runni  Mar13  00:00  svcho\n",
      "CREATE      5076   0.0   23.3M    5.2M    32  stopp  Mar13  00:00  C:\\Wi\n",
      "            5088   0.1    2.1M    8.2M        runni  Mar13  00:01  svcho\n",
      "            5096   0.0    2.5M    7.3M        runni  Mar13  00:00  vmnat\n",
      "            5104   1.0  189.8M  161.8M        runni  Mar13  03:45  MsMpE\n",
      "            5348   0.1    9.1M   14.7M        runni  Mar13  00:16  vmwar\n",
      "            5384   0.1    2.8M   10.1M        runni  Mar13  00:01  vmwar\n",
      "            5408   0.1    4.5M   12.8M        runni  Mar13  00:06  svcho\n",
      "            5440   0.0    2.6M    7.4M        runni  Mar13  00:00  svcho\n",
      "            5484   0.1    2.5M   11.3M        runni  Mar13  00:00  svcho\n",
      "            5652   0.0    1.6M    7.4M        runni  Mar13  00:00  Intel\n",
      "CREATE      5712   0.0    2.6M    3.8M    32  runni  Mar13  00:00  C:\\Wi\n",
      "            5728   0.1    4.3M   16.2M        runni  Mar13  00:03  svcho\n",
      "CREATE      5940   0.5   40.6M   73.8M    64  runni  Mar13  00:02  C:\\Pr\n",
      "            5972   0.1    3.6M   12.9M        runni  Mar13  00:00  svcho\n",
      "            6004   0.0    1.4M    6.2M        runni  Mar13  00:00  jhi_s\n",
      "CREATE      6076   0.4   29.1M   57.1M    32  runni  Mar13  00:53  C:\\Wi\n",
      "            6300   0.0    2.7M    6.5M        runni  Mar13  00:00  svcho\n",
      "CREATE      6764   0.0    1.5M    5.7M    32  runni  Mar13  00:00  D:\\pr\n",
      "            6908   0.0    1.9M    7.9M        runni  Mar13  00:00  svcho\n",
      "            6944   0.2   15.7M   25.4M        runni  Mar13  05:51  WmiPr\n",
      "            6964   0.3   32.2M   51.4M        runni  Mar13  00:02  vmwar\n",
      "CREATE      6980   0.5   59.7M   76.6M    32  runni  Mar13  00:09  D:\\pr\n",
      "CREATE      6992   0.1    2.9M   10.6M    32  runni  Mar13  00:03  C:\\Wi\n",
      "CREATE      7104   0.1    8.7M   19.9M    32  runni  Mar13  00:00  \\??\\C\n",
      "            7188   0.1    5.7M   11.1M        runni  Mar13  00:01  NisSr\n",
      "            7200   0.1    2.5M    8.9M        runni  Mar13  00:00  svcho\n",
      "CREATE      7252   0.2    6.1M   26.2M    32  stopp  Mar13  00:00  C:\\Wi\n",
      "CREATE      7268   0.6   88.3M  100.6M    32  runni  Mar13  00:02  C:\\Wi\n",
      "CREATE      7364   0.1    5.5M   12.7M    32  runni  Mar13  00:00  C:\\Wi\n",
      "CREATE      7488   0.0   31.3M    2.6M    32  stopp  Mar13  00:00  C:\\Pr\n",
      "CREATE      7528   0.2   13.1M   29.4M   128  runni  Mar13  00:57  ctfmo\n",
      "            7624   0.1    3.6M   13.6M        runni  Mar13  00:01  svcho\n",
      "CREATE      7688   0.1    1.8M    9.1M    32  runni  Mar13  00:00   This\n",
      "CREATE      7732   0.2    8.7M   30.1M    32  runni  Mar13  00:16  sihos\n",
      "CREATE      7764   0.5   47.3M   83.1M    64  runni  00:03  00:03  C:\\Pr\n",
      "CREATE      7784   0.1    8.3M   21.8M    32  runni  Mar13  00:11  C:\\Wi\n",
      "CREATE      7792   0.1    1.9M    8.3M    32  runni  Mar13  00:00  C:\\Wi\n",
      "            7832   0.2   31.5M   29.1M        runni  Mar13  00:01  Prese\n",
      "CREATE      7848   0.7  113.3M  120.9M    32  runni  00:10  00:11  D:\\pr\n",
      "CREATE      7852   0.2    6.7M   30.6M    32  runni  Mar13  00:01  C:\\Wi\n",
      "            7872   0.1    4.3M   16.7M        runni  Mar13  00:05  svcho\n",
      "CREATE      7900   0.1    3.9M    9.3M    32  stopp  Mar13  00:00  C:\\Wi\n",
      "CREATE      7988   0.5   52.8M   81.9M    64  runni  00:48  00:00  C:\\Pr\n",
      "            8044   0.1    3.1M   14.1M        runni  Mar13  00:00  svcho\n",
      "CREATE      8104   0.1    8.2M   18.7M    32  runni  Mar13  00:01  taskh\n",
      "            8120   0.0    2.2M    7.7M        runni  Mar13  00:01  svcho\n",
      "CREATE      8132   0.0   28.1M    7.6M    32  stopp  Mar13  00:00  C:\\Pr\n"
     ]
    },
    {
     "name": "stdout",
     "output_type": "stream",
     "text": [
      "            8180   0.1    4.7M   17.9M        runni  Mar13  00:01  svcho\n",
      "CREATE      8212   1.4  348.8M  232.8M    32  runni  Mar13  04:07  C:\\Wi\n",
      "CREATE      8316   0.1    6.4M   22.3M    32  runni  Mar13  00:02  C:\\Wi\n",
      "CREATE      8356   1.3  139.2M  215.3M    32  runni  Mar13  04:12  C:\\Pr\n",
      "CREATE      8372   0.7   51.1M  114.8M    32  runni  Mar13  00:22  C:\\Wi\n",
      "            8476   0.0    1.9M    7.0M        runni  Mar13  00:00  svcho\n",
      "            8508   0.0    1.6M    1.1M        runni  Mar13  00:00  Googl\n",
      "            8516   0.0    1.7M    1.1M        runni  Mar13  00:00  Googl\n",
      "            8640   0.0  864.0K    3.8M        runni  Mar13  00:00  dasHo\n",
      "CREATE      8664   0.9  113.3M  142.8M    32  runni  Mar13  03:47  C:\\Pr\n",
      "CREATE      8684   0.1    6.3M   16.8M    32  runni  00:26  00:00  C:\\Pr\n",
      "            8728   0.1    2.6M   10.4M        runni  Mar13  00:00  svcho\n",
      "CREATE      8732   0.3   27.2M   50.9M    64  runni  Mar13  00:04  C:\\Pr\n",
      "CREATE      8756   0.1    3.0M   17.1M    32  runni  Mar13  00:00  C:\\Wi\n",
      "CREATE      8828   0.3   16.1M   43.1M    32  runni  Mar13  00:43  C:\\Wi\n",
      "CREATE      8876   0.1    2.0M    8.8M    32  runni  Mar13  00:00  C:\\Pr\n",
      "            9056   0.1    2.8M   11.8M        runni  Mar13  00:00  svcho\n",
      "            9092   0.1    2.0M    8.8M        runni  Mar13  00:00  svcho\n",
      "            9128   0.3   42.6M   54.6M        runni  Mar13  00:06  Searc\n",
      "CREATE      9164   0.2   20.6M   40.6M    32  runni  Mar13  00:00  C:\\Pr\n",
      "CREATE      9300   1.4   99.1M  223.0M    32  stopp  Mar13  00:12  C:\\Wi\n",
      "CREATE      9372   0.1    8.7M   23.5M    32  runni  Mar13  00:00  C:\\Wi\n",
      "CREATE      9480   0.2    9.8M   37.6M    32  runni  Mar13  00:12  C:\\Wi\n",
      "CREATE      9556   0.1    7.9M   24.3M    32  runni  Mar13  00:06  C:\\Wi\n",
      "CREATE      9736   0.1    3.0M   11.9M    32  runni  Mar13  00:00  C:\\Wi\n",
      "CREATE      9812   0.0    1.8M    6.7M    32  runni  Mar13  00:00  C:\\Pr\n",
      "CREATE     10128   0.0    2.0M    1.2M    32  stopp  Mar13  00:00  C:\\Pr\n",
      "           10196   0.1    6.7M   11.2M        runni  Mar13  00:02  sppsv\n",
      "CREATE     10308   0.2    8.3M   29.7M    32  runni  Mar13  00:02  C:\\Wi\n",
      "           10524   0.1    2.4M    9.3M        runni  Mar13  00:01  svcho\n",
      "           10528   0.1    3.7M    8.2M        runni  Mar13  00:00  svcho\n",
      "CREATE     10832   0.1    3.7M   16.7M    32  runni  Mar13  00:03  C:\\Wi\n",
      "           10844   0.0    3.6M    6.0M        runni  Mar13  00:00  SgrmB\n",
      "           10912   0.1    5.1M   19.9M        runni  Mar13  00:01  svcho\n",
      "CREATE     10992   0.3   31.2M   52.6M    32  runni  Mar13  00:09  C:\\Wi\n",
      "CREATE     11108   0.1    2.6M   12.9M    32  runni  Mar13  00:00  C:\\Wi\n",
      "           11364   0.1    3.2M    8.1M        runni  Mar13  00:01  svcho\n",
      "CREATE     11380   0.3   52.7M   47.4M    32  runni  Mar13  00:02  C:\\Wi\n",
      "           11496   0.1    2.3M    8.9M        runni  Mar13  00:00  svcho\n",
      "           11540   0.1    4.3M   15.3M        runni  Mar13  00:01  Secur\n",
      "CREATE     11576   0.1    1.9M    8.8M    32  runni  Mar13  00:00  C:\\Wi\n",
      "CREATE     11740   0.2   18.9M   37.1M    32  runni  Mar13  00:00  C:\\Pr\n",
      "CREATE     11808   0.1    1.9M    8.5M    32  runni  Mar13  00:00  C:\\Wi\n",
      "CREATE     12244   0.1    8.7M   23.0M    32  runni  Mar13  00:00  \\??\\C\n",
      "CREATE     12336   0.5   47.1M   81.8M    32  runni  Mar13  00:21  C:\\Pr\n",
      "CREATE     12460   0.7   97.0M  112.7M    32  runni  Mar13  00:00  C:\\Pr\n",
      "CREATE     12572   0.7   92.7M  107.1M    32  runni  Mar13  23:42  C:\\Pr\n",
      "CREATE     12644   0.1    5.2M   11.3M    32  runni  Mar13  00:00  C:\\Us\n",
      "CREATE     12676   0.1    3.0M   15.1M    32  runni  Mar13  00:04  C:\\Wi\n",
      "CREATE     12680   0.9  110.3M  143.3M    32  runni  Mar13  03:47  C:\\Pr\n",
      "CREATE     12740   0.1    6.2M   15.2M    32  runni  Mar13  00:10  C:\\Wi\n",
      "CREATE     12768   0.5   44.3M   84.8M    64  runni  Mar13  00:04  C:\\Pr\n",
      "CREATE     12864   0.3   21.1M   40.9M    32  runni  Mar13  00:02  C:\\Pr\n",
      "CREATE     13124   0.0   17.6M  480.0K    32  stopp  Mar13  00:00  C:\\Pr\n",
      "CREATE     13272   0.0   16.4M  508.0K    32  stopp  Mar13  00:00  C:\\Pr\n",
      "CREATE     13280   0.7   71.5M  108.5M    64  runni  Mar13  00:49  C:\\Pr\n",
      "CREATE     13556   0.1   10.7M   21.5M    32  runni  Mar13  00:00  \\??\\C\n",
      "CREATE     13564   0.6   53.0M   90.9M    64  runni  Mar13  00:04  C:\\Pr\n",
      "CREATE     13884   0.2   10.1M   37.1M    32  runni  00:12  00:02  C:\\Wi\n",
      "CREATE     13984   0.4   34.2M   63.2M    64  runni  Mar13  00:01  C:\\Pr\n",
      "CREATE     14420   0.4   33.2M   63.5M    64  runni  Mar13  00:00  C:\\Pr\n",
      "CREATE     14636   0.5   45.7M   76.9M    64  runni  Mar13  00:10  C:\\Pr\n",
      "CREATE     14832   0.0    2.3M    3.8M    32  runni  Mar13  00:00  C:\\Wi\n",
      "CREATE     14984   0.5   51.3M   83.6M    64  runni  Mar13  00:02  C:\\Pr\n",
      "CREATE     15072   0.1    9.5M   15.4M    32  runni  Mar13  00:00  pytho\n",
      "CREATE     15132   0.1    8.6M   17.0M    32  runni  00:48  00:00  C:\\Pr\n",
      "CREATE     15324   0.4   40.0M   70.4M    64  runni  Mar13  00:03  C:\\Pr\n",
      "CREATE     15460   0.0    1.6M    6.2M    32  runni  Mar13  00:00  C:\\Wi\n",
      "CREATE     15748   0.5   39.0M   74.4M    64  runni  Mar13  00:06  C:\\Pr\n",
      "CREATE     15756   0.1    1.9M   10.5M    32  runni  Mar13  00:00  C:\\Wi\n",
      "CREATE     15976   0.7   71.8M  107.8M    64  runni  Mar13  00:05  C:\\Pr\n",
      "CREATE     16160   0.1    2.7M   15.4M    32  runni  Mar13  00:00  C:\\Wi\n",
      "CREATE     16228   0.6   70.2M  100.0M    64  runni  Mar13  00:12  C:\\Pr\n",
      "CREATE     16292   0.1    9.6M   21.5M    32  runni  Mar13  00:00  \\??\\C\n",
      "CREATE     16404   0.0    1.6M    6.8M    32  runni  00:13  00:00  C:\\Wi\n",
      "CREATE     16744   0.4   32.8M   62.6M    64  runni  Mar13  00:01  C:\\Pr\n",
      "           16992   0.0    1.5M    6.5M        runni  Mar13  00:00  svcho\n",
      "CREATE     17008   0.4   43.6M   72.3M    64  runni  Mar13  00:03  C:\\Pr\n",
      "CREATE     17140   0.1   12.3M   21.6M    64  runni  01:03  00:00  C:\\Pr\n"
     ]
    }
   ],
   "source": [
    "import time\n",
    "import psutil\n",
    "for i in range(0):#CPU使用率\n",
    "    time.sleep(0.1)\n",
    "    x=psutil.cpu_percent()\n",
    "    print(int(x)*\"-\",x)\n",
    "\n",
    "psutil.virtual_memory()\n",
    "psutil.swap_memory()\n",
    "psutil.disk_partitions() # 磁盘分区信息\n",
    "psutil.disk_usage('/').total/1024/1024/1024   #119.22558212280273\n",
    "psutil.net_io_counters() # 获取网络读写字节／包的个数\n",
    "psutil.net_if_addrs() # 获取网络接口信息\n",
    "\"\"\"{'以太网': [snicaddr(family=<AddressFamily.AF_LINK: -1>, address='8C-16-45-DC-6F-B3', netmask=None, broadcast=None, ptp=None),\n",
    "  snicaddr(family=<AddressFamily.AF_INET: 2>, address='169.254.87.41', netmask='255.255.0.0', broadcast=None, ptp=None),\n",
    "  snicaddr(family=<Address\"\"\"\n",
    "psutil.net_if_stats() # 获取网络接口状态\n",
    "psutil.net_connections()#addr(ip='127.0.0.1', port=49803)\n",
    "#sconn(fd=-1, family=<AddressFamily.AF_INET: 2>, type=1, laddr=addr(ip='127.0.0.1', port=56915), raddr=addr(ip='127.0.0.1', port=56916), status='ESTABLISHED', pid=7848),\n",
    "psutil.pids() # 所有进程ID\n",
    "p = psutil.Process(17080)\n",
    "p.name()#'System Idle Process'\n",
    "p.exe()#'C:\\\\Program Files (x86)\\\\Google\\\\Chrome\\\\Application\\\\chrome.exe'\n",
    "p.cwd()#'C:\\\\Program Files (x86)\\\\Google\\\\Chrome\\\\Application\\\\80.0.3987.132'\n",
    "p.cmdline()\n",
    "p.ppid() \n",
    "p.parent() #psutil.Process(pid=6764, name='jupyter-notebook.exe', started='21:48:06')\n",
    "p.num_threads()\n",
    "p.environ()#程序环境变量\n",
    "p.terminate() # 结束进程\n",
    "psutil.test()"
   ]
  },
  {
   "cell_type": "code",
   "execution_count": 637,
   "metadata": {},
   "outputs": [
    {
     "name": "stdout",
     "output_type": "stream",
     "text": [
      "utf-8\n"
     ]
    },
    {
     "data": {
      "text/plain": [
       "{'encoding': 'utf-8', 'confidence': 0.99, 'language': ''}"
      ]
     },
     "execution_count": 637,
     "metadata": {},
     "output_type": "execute_result"
    }
   ],
   "source": [
    "import requests\n",
    "import chardet\n",
    "url=\"http://192.168.1.1\"\n",
    "url1=\"https://www.cnblogs.com/xcfree/p/5045415.html\"\n",
    "re=requests.get(url1)\n",
    "print(re.encoding)\n",
    "chardet.detect(re.content)\n"
   ]
  },
  {
   "cell_type": "code",
   "execution_count": 639,
   "metadata": {},
   "outputs": [
    {
     "ename": "IndentationError",
     "evalue": "expected an indented block (<ipython-input-639-ce81cf2434e1>, line 10)",
     "output_type": "error",
     "traceback": [
      "\u001b[1;36m  File \u001b[1;32m\"<ipython-input-639-ce81cf2434e1>\"\u001b[1;36m, line \u001b[1;32m10\u001b[0m\n\u001b[1;33m    \"\"\"\u001b[0m\n\u001b[1;37m       \n^\u001b[0m\n\u001b[1;31mIndentationError\u001b[0m\u001b[1;31m:\u001b[0m expected an indented block\n"
     ]
    }
   ],
   "source": [
    "from __future__ import division\n",
    "import os\n",
    "from collections import namedtuple\n",
    "_nt_cpu_temp = namedtuple('cputemp', 'name temp max critical')\n",
    "def get_cpu_temp(fahrenheit=False):\n",
    "\"\"\"Return temperatures expressed in Celsius for each physical CPU\n",
    "installed on the system as a list of namedtuples as in:\n",
    ">>> get_cpu_temp()\n",
    "[cputemp(name='atk0110', temp=32.0, max=60.0, critical=95.0)]\n",
    "\"\"\"\n",
    "    # http://www.mjmwired.net/kernel/Documentation/hwmon/sysfs-interface\n",
    "    cat = lambda file: open(file, 'r').read().strip()\n",
    "    base = '/sys/class/hwmon/'\n",
    "    ls = sorted(os.listdir(base))\n",
    "    assert ls, \"%r is empty\" % base\n",
    "    ret = []\n",
    "    for hwmon in ls:\n",
    "    hwmon = os.path.join(base, hwmon)\n",
    "    label = cat(os.path.join(hwmon, 'temp1_label'))\n",
    "    assert 'cpu temp' in label.lower(), label\n",
    "    name = cat(os.path.join(hwmon, 'name'))\n",
    "    temp = int(cat(os.path.join(hwmon, 'temp1_input'))) / 1000\n",
    "    max_ = int(cat(os.path.join(hwmon, 'temp1_max'))) / 1000\n",
    "    crit = int(cat(os.path.join(hwmon, 'temp1_crit'))) / 1000\n",
    "    digits = (temp, max_, crit)\n",
    "    if fahrenheit:\n",
    "        digits = [(x * 1.8) + 32 for x in digits]\n",
    "        ret.append(_nt_cpu_temp(name, *digits))\n",
    "    return ret\n",
    "get_cpu_temp()"
   ]
  },
  {
   "cell_type": "code",
   "execution_count": null,
   "metadata": {},
   "outputs": [],
   "source": [
    "#python\n",
    "for da in range(0,35):\n",
    "    for zh in range(0,51):\n",
    "        for xi in range(0,101):\n",
    "            if da*3+zh*2+xi*1==100:\n",
    "                print(da,zh,xi)\n",
    "      "
   ]
  }
 ],
 "metadata": {
  "kernelspec": {
   "display_name": "Python 3",
   "language": "python",
   "name": "python3"
  },
  "language_info": {
   "codemirror_mode": {
    "name": "ipython",
    "version": 3
   },
   "file_extension": ".py",
   "mimetype": "text/x-python",
   "name": "python",
   "nbconvert_exporter": "python",
   "pygments_lexer": "ipython3",
   "version": "3.7.4"
  }
 },
 "nbformat": 4,
 "nbformat_minor": 2
}
